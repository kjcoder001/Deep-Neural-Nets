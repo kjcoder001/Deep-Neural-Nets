{
 "cells": [
  {
   "cell_type": "code",
   "execution_count": 1,
   "metadata": {},
   "outputs": [],
   "source": [
    "import tensorflow as tf"
   ]
  },
  {
   "cell_type": "code",
   "execution_count": 2,
   "metadata": {},
   "outputs": [],
   "source": [
    "from tensorflow.examples.tutorials.mnist import input_data"
   ]
  },
  {
   "cell_type": "code",
   "execution_count": 3,
   "metadata": {},
   "outputs": [
    {
     "name": "stdout",
     "output_type": "stream",
     "text": [
      "WARNING:tensorflow:From <ipython-input-3-d08c12c637be>:1: read_data_sets (from tensorflow.contrib.learn.python.learn.datasets.mnist) is deprecated and will be removed in a future version.\n",
      "Instructions for updating:\n",
      "Please use alternatives such as official/mnist/dataset.py from tensorflow/models.\n",
      "WARNING:tensorflow:From c:\\users\\kushal\\appdata\\local\\programs\\python\\python36\\lib\\site-packages\\tensorflow\\contrib\\learn\\python\\learn\\datasets\\mnist.py:260: maybe_download (from tensorflow.contrib.learn.python.learn.datasets.base) is deprecated and will be removed in a future version.\n",
      "Instructions for updating:\n",
      "Please write your own downloading logic.\n",
      "WARNING:tensorflow:From c:\\users\\kushal\\appdata\\local\\programs\\python\\python36\\lib\\site-packages\\tensorflow\\contrib\\learn\\python\\learn\\datasets\\mnist.py:262: extract_images (from tensorflow.contrib.learn.python.learn.datasets.mnist) is deprecated and will be removed in a future version.\n",
      "Instructions for updating:\n",
      "Please use tf.data to implement this functionality.\n",
      "Extracting MNIST_data/train-images-idx3-ubyte.gz\n",
      "WARNING:tensorflow:From c:\\users\\kushal\\appdata\\local\\programs\\python\\python36\\lib\\site-packages\\tensorflow\\contrib\\learn\\python\\learn\\datasets\\mnist.py:267: extract_labels (from tensorflow.contrib.learn.python.learn.datasets.mnist) is deprecated and will be removed in a future version.\n",
      "Instructions for updating:\n",
      "Please use tf.data to implement this functionality.\n",
      "Extracting MNIST_data/train-labels-idx1-ubyte.gz\n",
      "WARNING:tensorflow:From c:\\users\\kushal\\appdata\\local\\programs\\python\\python36\\lib\\site-packages\\tensorflow\\contrib\\learn\\python\\learn\\datasets\\mnist.py:110: dense_to_one_hot (from tensorflow.contrib.learn.python.learn.datasets.mnist) is deprecated and will be removed in a future version.\n",
      "Instructions for updating:\n",
      "Please use tf.one_hot on tensors.\n",
      "Extracting MNIST_data/t10k-images-idx3-ubyte.gz\n",
      "Extracting MNIST_data/t10k-labels-idx1-ubyte.gz\n",
      "WARNING:tensorflow:From c:\\users\\kushal\\appdata\\local\\programs\\python\\python36\\lib\\site-packages\\tensorflow\\contrib\\learn\\python\\learn\\datasets\\mnist.py:290: DataSet.__init__ (from tensorflow.contrib.learn.python.learn.datasets.mnist) is deprecated and will be removed in a future version.\n",
      "Instructions for updating:\n",
      "Please use alternatives such as official/mnist/dataset.py from tensorflow/models.\n"
     ]
    }
   ],
   "source": [
    "mnist = input_data.read_data_sets('MNIST_data/',one_hot=True)"
   ]
  },
  {
   "cell_type": "code",
   "execution_count": 4,
   "metadata": {},
   "outputs": [
    {
     "data": {
      "text/plain": [
       "tensorflow.contrib.learn.python.learn.datasets.base.Datasets"
      ]
     },
     "execution_count": 4,
     "metadata": {},
     "output_type": "execute_result"
    }
   ],
   "source": [
    "type(mnist)"
   ]
  },
  {
   "cell_type": "code",
   "execution_count": 15,
   "metadata": {},
   "outputs": [],
   "source": [
    "def init_weights(shape):\n",
    "    '''\n",
    "    param shape : [filter_height,filter_width,input_channels,output_channels(feature maps)]\n",
    "    '''\n",
    "    print(\"Shape to initialize weights(filters) is {}\".format(shape))\n",
    "    init_random_weights = tf.truncated_normal(shape,mean=0.0,stddev=0.1)\n",
    "    return tf.Variable(init_random_weights)"
   ]
  },
  {
   "cell_type": "code",
   "execution_count": 16,
   "metadata": {},
   "outputs": [],
   "source": [
    "def init_bias(shape):\n",
    "    '''\n",
    "    param shape : list/tuple of 1 dimension holding a value equal to the number of output feature maps required.\n",
    "    '''\n",
    "    init_bias = tf.constant(0.1,shape=shape)\n",
    "    return tf.Variable(init_bias)"
   ]
  },
  {
   "cell_type": "code",
   "execution_count": 17,
   "metadata": {},
   "outputs": [],
   "source": [
    "def conv2d(x,W):\n",
    "    '''\n",
    "    param x : [batch(number of examples),image_height,image_width,input_channels]\n",
    "    param W : [filter_height,filter_width,channels input,channels out]\n",
    "    \n",
    "    returns: A tensor of same dimension and type as 'x'\n",
    "    '''\n",
    "   \n",
    "    return tf.nn.conv2d(x,W,strides=[1,1,1,1],padding='SAME')"
   ]
  },
  {
   "cell_type": "code",
   "execution_count": 18,
   "metadata": {},
   "outputs": [],
   "source": [
    "def max_pooling_2by2(x):\n",
    "    '''\n",
    "    param x : [batch(number of examples),height,width,channels]\n",
    "    \n",
    "    returns: A 4-D tensor(same type as x) following the data format 'NHWC'\n",
    "    '''\n",
    "    \n",
    "    # parameters: x is the input tensor in the data format 'NHWC'\n",
    "    # kszie: window size to be used for pooling,list or a tuple with the size of the window for each dimension\n",
    "    # of the input tensor.e.g if ksize=[1,2,2,1], it means window size is 2 along the height and width of the image.\n",
    "    \n",
    "    return tf.nn.max_pool(x,ksize=[1,2,2,1],strides=[1,2,2,1],padding='SAME')"
   ]
  },
  {
   "cell_type": "code",
   "execution_count": 19,
   "metadata": {},
   "outputs": [],
   "source": [
    "def convolution_layer(input_x,shape):\n",
    "    '''\n",
    "    param input_x : 4-D tensor [batch,image_height,image_width,channels]\n",
    "    param shape : 4-D tensor [filter_height,filter_width,input_channels(before),output_channels]\n",
    "    \n",
    "    Here the output_channels are essentially the number of feature maps we want to generate from the current image.\n",
    "    If initially  the image is RGB the input feature maps will be 3, one for each color.The output channels or feature maps\n",
    "    is the number of features we want to detect in the input image.\n",
    "    \n",
    "    returns: Tensor with shape as the input provided to the relu operation,which in turn is the output from conv2d method.\n",
    "    Thus the output will be a 4-D tensor of type [batch,image_h,image_w,channels]\n",
    "    '''\n",
    "    print(\"input_x shape is {}\".format(input_x.shape))\n",
    "    W = init_weights(shape)\n",
    "    b = init_bias([shape[3]]) # one bias for every feature map,say if output maps=32,we'll need 32 biases.\n",
    "    return tf.nn.relu(conv2d(input_x,W) + b)"
   ]
  },
  {
   "cell_type": "code",
   "execution_count": 20,
   "metadata": {},
   "outputs": [],
   "source": [
    "def normal_full_layer(input_layer,size):\n",
    "    '''\n",
    "    param input_layer:number of neurons or trainable parameters after flattening the last convolution layer.\n",
    "    param size:number of neurons you want in the fully connected layer.\n",
    "    '''\n",
    "    print(\"input_layer shape is {}\".format(input_layer.shape))\n",
    "    input_size = int(input_layer.get_shape()[1])\n",
    "    W = init_weights([input_size,size])\n",
    "    b = init_bias([size])\n",
    "    return tf.matmul(input_layer,W) + b"
   ]
  },
  {
   "cell_type": "code",
   "execution_count": 21,
   "metadata": {},
   "outputs": [],
   "source": [
    "x = tf.placeholder(tf.float32,shape=[None,784]) # None is size of the batch , 784-pixels\n",
    "y_true = tf.placeholder(tf.float32,shape=[None,10]) # activations of each digit(10 digits in total) along the columns"
   ]
  },
  {
   "cell_type": "code",
   "execution_count": 22,
   "metadata": {},
   "outputs": [],
   "source": [
    "#LAYERS\n",
    "x_image = tf.reshape(x,[-1,28,28,1]) \n",
    "# reshapes the flattened image(784 X 1) back to original dimensions, 28 X 28. 1 is # of channels implying a greyscale image."
   ]
  },
  {
   "cell_type": "code",
   "execution_count": 23,
   "metadata": {},
   "outputs": [
    {
     "name": "stdout",
     "output_type": "stream",
     "text": [
      "input_x shape is (?, 28, 28, 1)\n",
      "Shape to initialize weights(filters) is [5, 5, 1, 32]\n",
      "convo_1 shape is (?, 28, 28, 32)\n",
      "convo_1_max_pooling shape is (?, 14, 14, 32)\n"
     ]
    }
   ],
   "source": [
    "# output is of same type as input , a 4-D tensor\n",
    "# the filter height and width are 5 X 5. \n",
    "# The third number is the number of input channels which is 1 in case of a greyscale image.\n",
    "# 32- number of filters/feature detectors the image has to be passed through.\n",
    "# This convolution is going to compute 32 features for each 5 by 5 patch.\n",
    "convo_1 = convolution_layer(x_image,shape=[5,5,1,32])  \n",
    "print(\"convo_1 shape is {}\".format(convo_1.shape))\n",
    "\n",
    "\n",
    "convo_1_max_pooling = max_pooling_2by2(convo_1)\n",
    "print(\"convo_1_max_pooling shape is {}\".format(convo_1_max_pooling.shape))"
   ]
  },
  {
   "cell_type": "code",
   "execution_count": 24,
   "metadata": {},
   "outputs": [
    {
     "name": "stdout",
     "output_type": "stream",
     "text": [
      "input_x shape is (?, 14, 14, 32)\n",
      "Shape to initialize weights(filters) is [5, 5, 32, 64]\n",
      "convo_2 shape is (?, 14, 14, 64)\n",
      "convo_2_max_pooling shape is (?, 7, 7, 64)\n"
     ]
    }
   ],
   "source": [
    "# Again 5 by 5 filters. But the number of channels input is 32 ,i.e channels in previous layer.\n",
    "# For next layer we want 64 feature detectors.\n",
    "convo_2 = convolution_layer(convo_1_max_pooling,shape=[5,5,32,64])\n",
    "print(\"convo_2 shape is {}\".format(convo_2.shape))\n",
    "\n",
    "convo_2_max_pooling = max_pooling_2by2(convo_2)\n",
    "print(\"convo_2_max_pooling shape is {}\".format(convo_2_max_pooling.shape))"
   ]
  },
  {
   "cell_type": "code",
   "execution_count": 25,
   "metadata": {},
   "outputs": [
    {
     "name": "stdout",
     "output_type": "stream",
     "text": [
      "convo_2_flat shape is (?, 3136)\n",
      "input_layer shape is (?, 3136)\n",
      "Shape to initialize weights(filters) is [3136, 1024]\n",
      "full layer one shape is (?, 1024)\n"
     ]
    }
   ],
   "source": [
    "convo_2_flat = tf.reshape(convo_2_max_pooling,[-1,7*7*64]) #2 pooling layers, so (28/2)/2 = 7\n",
    "print(\"convo_2_flat shape is {}\".format(convo_2_flat.shape))\n",
    "full_layer_one = tf.nn.relu(normal_full_layer(convo_2_flat,1024))\n",
    "print(\"full layer one shape is {}\".format(full_layer_one.shape))"
   ]
  },
  {
   "cell_type": "code",
   "execution_count": 18,
   "metadata": {},
   "outputs": [],
   "source": [
    "#dropout to prevent overfitting\n",
    "hold_prob = tf.placeholder(tf.float32)\n",
    "full_one_dropout = tf.nn.dropout(full_layer_one,keep_prob=hold_prob)"
   ]
  },
  {
   "cell_type": "code",
   "execution_count": 19,
   "metadata": {},
   "outputs": [
    {
     "name": "stdout",
     "output_type": "stream",
     "text": [
      "input_layer shape is (?, 1024)\n",
      "[1024, 10]\n"
     ]
    }
   ],
   "source": [
    "y_predictions = normal_full_layer(full_one_dropout,10) #10 - labels"
   ]
  },
  {
   "cell_type": "code",
   "execution_count": 20,
   "metadata": {},
   "outputs": [
    {
     "name": "stdout",
     "output_type": "stream",
     "text": [
      "WARNING:tensorflow:From <ipython-input-20-d9330ea2a5b2>:2: softmax_cross_entropy_with_logits (from tensorflow.python.ops.nn_ops) is deprecated and will be removed in a future version.\n",
      "Instructions for updating:\n",
      "\n",
      "Future major versions of TensorFlow will allow gradients to flow\n",
      "into the labels input on backprop by default.\n",
      "\n",
      "See @{tf.nn.softmax_cross_entropy_with_logits_v2}.\n",
      "\n"
     ]
    }
   ],
   "source": [
    "#loss function\n",
    "cross_entropy = tf.reduce_mean(tf.nn.softmax_cross_entropy_with_logits(labels=y_true,logits=y_predictions))"
   ]
  },
  {
   "cell_type": "code",
   "execution_count": 21,
   "metadata": {},
   "outputs": [],
   "source": [
    "#optimizer\n",
    "optimizer = tf.train.AdamOptimizer(learning_rate=0.0001)\n",
    "train = optimizer.minimize(cross_entropy)"
   ]
  },
  {
   "cell_type": "code",
   "execution_count": 22,
   "metadata": {},
   "outputs": [],
   "source": [
    "init = tf.global_variables_initializer()"
   ]
  },
  {
   "cell_type": "code",
   "execution_count": 75,
   "metadata": {},
   "outputs": [
    {
     "name": "stdout",
     "output_type": "stream",
     "text": [
      "on step 0\n",
      "accuracy is: \n",
      "0.1169\n",
      "\n",
      "on step 100\n",
      "accuracy is: \n",
      "0.8736\n",
      "\n",
      "on step 200\n",
      "accuracy is: \n",
      "0.9201\n",
      "\n",
      "on step 300\n",
      "accuracy is: \n",
      "0.9343\n",
      "\n",
      "on step 400\n",
      "accuracy is: \n",
      "0.9489\n",
      "\n",
      "on step 500\n",
      "accuracy is: \n",
      "0.9509\n",
      "\n",
      "on step 600\n",
      "accuracy is: \n",
      "0.9561\n",
      "\n",
      "on step 700\n",
      "accuracy is: \n",
      "0.9596\n",
      "\n",
      "on step 800\n",
      "accuracy is: \n",
      "0.9648\n",
      "\n",
      "on step 900\n",
      "accuracy is: \n",
      "0.9679\n",
      "\n"
     ]
    }
   ],
   "source": [
    "steps = 1000\n",
    "with tf.Session() as sess:\n",
    "    sess.run(init)\n",
    "    for i in range(steps):\n",
    "        batch_x,batch_y = mnist.train.next_batch(100)\n",
    "        sess.run(train,feed_dict={x:batch_x,y_true:batch_y,hold_prob:0.5})\n",
    "        \n",
    "        if i%100 == 0:\n",
    "            print(\"on step {}\".format(i))\n",
    "            print(\"accuracy is: \")\n",
    "            pred = tf.equal(tf.argmax(y_predictions,1),tf.argmax(y_true,1))\n",
    "            accuracy = tf.reduce_mean(tf.cast(pred,tf.float32))\n",
    "            print(sess.run(accuracy,feed_dict={x:mnist.test.images,y_true:mnist.test.labels,hold_prob:1.0}))\n",
    "            print()"
   ]
  },
  {
   "cell_type": "code",
   "execution_count": null,
   "metadata": {},
   "outputs": [],
   "source": []
  }
 ],
 "metadata": {
  "kernelspec": {
   "display_name": "Python 3",
   "language": "python",
   "name": "python3"
  },
  "language_info": {
   "codemirror_mode": {
    "name": "ipython",
    "version": 3
   },
   "file_extension": ".py",
   "mimetype": "text/x-python",
   "name": "python",
   "nbconvert_exporter": "python",
   "pygments_lexer": "ipython3",
   "version": "3.6.3"
  }
 },
 "nbformat": 4,
 "nbformat_minor": 2
}
